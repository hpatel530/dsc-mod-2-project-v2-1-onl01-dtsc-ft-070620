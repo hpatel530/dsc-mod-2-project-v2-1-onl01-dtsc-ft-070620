{
 "cells": [
  {
   "cell_type": "markdown",
   "metadata": {},
   "source": [
    "# Sell Your Home Like a King"
   ]
  },
  {
   "cell_type": "markdown",
   "metadata": {},
   "source": [
    "## A strategic approach to selling your home in King County"
   ]
  },
  {
   "cell_type": "markdown",
   "metadata": {},
   "source": [
    "**By: Hiten Patel**"
   ]
  },
  {
   "cell_type": "markdown",
   "metadata": {},
   "source": [
    "To sell or not to sell? This becomes a loaded question when you apply it to your home and a lot of research is involved to even be in the ball park for answers. Some sell their homes because of a new opportunity in a different city, others sell due to because of a family member passing. The process can be a logical one for some, an emotional one for others or both. Whatever may be the reason, you should look to maximize your profits in any case.   \n",
    "\n",
    "What does the real estate market look like for your area? What improvements should you make to your home to maximize profits? What improvements should you not make?\n",
    "\n",
    "The purpose of this project is to build a model based on linear regression to help identify what features are important in a home to maximize the selling price of a home. The final model will go through many iterations and tests to ensure that it is the best fit model."
   ]
  },
  {
   "cell_type": "markdown",
   "metadata": {},
   "source": [
    "## Dataset"
   ]
  },
  {
   "cell_type": "markdown",
   "metadata": {},
   "source": [
    "The source for the data came from 'kc_house.data.csv' file. The dataset contains the following information. \n",
    "\n",
    "* **id** - unique identified for a house\n",
    "* **dateDate** - house was sold\n",
    "* **pricePrice** -  is prediction target\n",
    "* **bedroomsNumber** -  of Bedrooms/House\n",
    "* **bathroomsNumber** -  of bathrooms/bedrooms\n",
    "* **sqft_livingsquare** -  footage of the home\n",
    "* **sqft_lotsquare** -  footage of the lot\n",
    "* **floorsTotal** -  floors (levels) in house\n",
    "* **waterfront** - House which has a view to a waterfront\n",
    "* **view** - Has been viewed\n",
    "* **condition** - How good the condition is ( Overall )\n",
    "* **grade** - overall grade given to the housing unit, based on King County grading system\n",
    "* **sqft_above** - square footage of house apart from basement\n",
    "* **sqft_basement** - square footage of the basement\n",
    "* **yr_built** - Built Year\n",
    "* **yr_renovated** - Year when house was renovated\n",
    "* **zipcode** - zip\n",
    "* **lat** - Latitude coordinate\n",
    "* **long** - Longitude coordinate\n",
    "* **sqft_living15** - The square footage of interior housing living space for the nearest 15 neighbors\n",
    "* **sqft_lot15** - The square footage of the land lots of the nearest 15 neighbors"
   ]
  },
  {
   "cell_type": "markdown",
   "metadata": {},
   "source": [
    "## Methodology: OSEMN Framework"
   ]
  },
  {
   "cell_type": "markdown",
   "metadata": {},
   "source": [
    ">**Obtain:**\n",
    " * Extracting the data from the file source\n",
    " \n",
    ">**Scrub:**\n",
    "* Explore the raw data set and understanding the values\n",
    "* Understanding the null values and evaluating the best steps to take to eliminate them. \n",
    "* Replacing values and converting data types \n",
    "* Deleting irrevalent columns and creating new columns with relevent information\n",
    "\n",
    ">**Explore:**\n",
    "* Creating visualizations to better understand the data\n",
    "* Deciding what data to treat as numerical/categorical \n",
    "* Deriving statistics from the data \n",
    "* Log transforming numerical data and creating dummy variables for categorical data\n",
    "\n",
    ">**Model:**\n",
    "* Base model is created than is analyzed \n",
    "* Reviewing the coefficients, p-values, normality and multicollinearity of the data\n",
    "* Removing data with high multicollinearity using the VIF method\n",
    "* Build and run the next model\n",
    "* Removing data with high p-values \n",
    "* Test the final model and evaluate if the model holds. \n",
    "\n",
    ">**iNtrepret:**\n",
    "* Evaluating the coefficients \n",
    "* Drawing a conclusion from the data\n",
    "* Commuicating the results with visuals "
   ]
  },
  {
   "cell_type": "markdown",
   "metadata": {},
   "source": [
    "## Results"
   ]
  },
  {
   "cell_type": "code",
   "execution_count": null,
   "metadata": {},
   "outputs": [],
   "source": [
    "#original data\n",
    "# null values\n",
    "# converting data, deleting data\n",
    "#base model "
   ]
  },
  {
   "cell_type": "code",
   "execution_count": null,
   "metadata": {},
   "outputs": [],
   "source": [
    "#numerical data - log transformation \n",
    "# categorical data - dummies \n",
    "#model 2"
   ]
  },
  {
   "cell_type": "code",
   "execution_count": null,
   "metadata": {},
   "outputs": [],
   "source": [
    "#multicollinearity - vif method\n",
    "#removing p-values\n",
    "#final model\n",
    "#model validation "
   ]
  },
  {
   "cell_type": "markdown",
   "metadata": {},
   "source": [
    "## Conclusions"
   ]
  },
  {
   "cell_type": "code",
   "execution_count": 1,
   "metadata": {},
   "outputs": [],
   "source": [
    "#intrepretations of coefficients \n",
    "#graphs and charts \n"
   ]
  },
  {
   "cell_type": "markdown",
   "metadata": {},
   "source": [
    "## Recommendations "
   ]
  },
  {
   "cell_type": "markdown",
   "metadata": {},
   "source": [
    "## Next Steps "
   ]
  },
  {
   "cell_type": "code",
   "execution_count": null,
   "metadata": {},
   "outputs": [],
   "source": []
  }
 ],
 "metadata": {
  "kernelspec": {
   "display_name": "Python 3",
   "language": "python",
   "name": "python3"
  },
  "language_info": {
   "codemirror_mode": {
    "name": "ipython",
    "version": 3
   },
   "file_extension": ".py",
   "mimetype": "text/x-python",
   "name": "python",
   "nbconvert_exporter": "python",
   "pygments_lexer": "ipython3",
   "version": "3.6.9"
  },
  "toc": {
   "base_numbering": 1,
   "nav_menu": {},
   "number_sections": true,
   "sideBar": true,
   "skip_h1_title": false,
   "title_cell": "Table of Contents",
   "title_sidebar": "Contents",
   "toc_cell": false,
   "toc_position": {},
   "toc_section_display": true,
   "toc_window_display": false
  }
 },
 "nbformat": 4,
 "nbformat_minor": 2
}
