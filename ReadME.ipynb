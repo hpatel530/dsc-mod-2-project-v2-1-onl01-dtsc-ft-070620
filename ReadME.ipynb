{
 "cells": [
  {
   "cell_type": "markdown",
   "metadata": {},
   "source": [
    "# Sell Your Home For A King's Ransom"
   ]
  },
  {
   "cell_type": "markdown",
   "metadata": {},
   "source": [
    "## A strategic approach to selling your home in King County"
   ]
  },
  {
   "cell_type": "markdown",
   "metadata": {},
   "source": [
    "**By: Hiten Patel**"
   ]
  },
  {
   "cell_type": "markdown",
   "metadata": {},
   "source": [
    "To sell or not to sell? This becomes a loaded question when you apply it to your home and a lot of research is necessary to even be in the ball park for answers. There are many reasons to sell your home and it could be because of new opportunities, financial gains or due to unfortunate circumstances. The process can be a logical one for some, an emotional one for others or both. Whatever may be the reason, you should look to maximize your profits in any case.   \n",
    " \n",
    "Questions can include; What does the real estate market look like for your area? What improvements should you make to your home to maximize profits? What improvements should you not make?\n",
    "\n",
    "The purpose of this project was to build a model based on linear regression to help identify what features are important to maximize the selling price of a home. "
   ]
  },
  {
   "cell_type": "markdown",
   "metadata": {},
   "source": [
    "## Dataset"
   ]
  },
  {
   "cell_type": "markdown",
   "metadata": {},
   "source": [
    "The source for the data came from 'kc_house.data.csv' file. The dataset contains the following information. \n",
    "\n",
    "* **id** - unique identified for a house\n",
    "* **dateDate** - house was sold\n",
    "* **pricePrice** -  is prediction target\n",
    "* **bedroomsNumber** -  of Bedrooms/House\n",
    "* **bathroomsNumber** -  of bathrooms/bedrooms\n",
    "* **sqft_livingsquare** -  footage of the home\n",
    "* **sqft_lotsquare** -  footage of the lot\n",
    "* **floorsTotal** -  floors (levels) in house\n",
    "* **waterfront** - House which has a view to a waterfront\n",
    "* **view** - Has been viewed\n",
    "* **condition** - How good the condition is ( Overall )\n",
    "* **grade** - overall grade given to the housing unit, based on King County grading system\n",
    "* **sqft_above** - square footage of house apart from basement\n",
    "* **sqft_basement** - square footage of the basement\n",
    "* **yr_built** - Built Year\n",
    "* **yr_renovated** - Year when house was renovated\n",
    "* **zipcode** - zip\n",
    "* **lat** - Latitude coordinate\n",
    "* **long** - Longitude coordinate\n",
    "* **sqft_living15** - The square footage of interior housing living space for the nearest 15 neighbors\n",
    "* **sqft_lot15** - The square footage of the land lots of the nearest 15 neighbors"
   ]
  },
  {
   "cell_type": "markdown",
   "metadata": {},
   "source": [
    "## Methodology: OSEMN Framework"
   ]
  },
  {
   "cell_type": "markdown",
   "metadata": {},
   "source": [
    ">**Obtain:**\n",
    " * Extracting the data from the file source 'kc_house_data.csv'\n",
    " \n",
    ">**Scrub:**\n",
    "* Explore the raw data set and understand the values\n",
    "* Understanding the null values and evaluating the best steps to take to eliminate them. \n",
    "* Replacing values and converting data types \n",
    "* Deleting irrevalent columns and creating new columns with relevent information\n",
    "\n",
    ">**Explore:**\n",
    "* Creating visualizations to better understand the data\n",
    "* Deciding what data to treat as numerical/categorical \n",
    "* Deriving statistics from the data \n",
    "* Log transforming numerical data and creating dummy variables for categorical data\n",
    "\n",
    ">**Model:**\n",
    "* Base model is created than is analyzed \n",
    "* Reviewing the coefficients, p-values, normality and multicollinearity of the data\n",
    "* Removing data with high multicollinearity using the VIF method\n",
    "* Build and run the next model\n",
    "* Removing data with high p-values \n",
    "* Test the final model and evaluate if the model holds. \n",
    "\n",
    ">**iNtrepret:**\n",
    "* Evaluating the coefficients \n",
    "* Drawing a conclusion from the data\n",
    "* Commuicating the results with visuals "
   ]
  },
  {
   "cell_type": "markdown",
   "metadata": {},
   "source": [
    "## Results"
   ]
  },
  {
   "cell_type": "markdown",
   "metadata": {},
   "source": [
    "### The Original Data"
   ]
  },
  {
   "cell_type": "markdown",
   "metadata": {},
   "source": [
    "Referring to our methodology, the first steps to creating our model is to access our data and analyzing it. Using the .info() method we can see there are 21,597 rows and 21 columns. Along with this info, we can also see the data is made up of 'objects' , 'floats' and 'int'.\n",
    "\n",
    "Furthermore, we dug a little deeper with some numerical analysis and found that 11% of null values came from 'waterfront' column, 18% of null values from 'yr_renovated' and less than 1% from 'view'. Rather than eliminating the columns, we decided to use the median value for the respective columns in-place for the null values.\n",
    "\n",
    "Next, we wanted to visually inspect our data with .hist() method with the dependent variable set to 'price'. This gave us an idea of what variables were better suited to be numerical vs categorical and what columns we could possibly delete. \n",
    "\n",
    "The following actions were taken; \n",
    "* Columns 'lat' and 'long' were removed because there was no linear relationship with 'price'.  \n",
    "\n",
    "* 'date' column was removed due to, to many unique values\n",
    "\n",
    "* 'id\" column was removed since these were just random numbers assigned to each house. \n",
    "\n",
    "* New column \"Age\" was created by using 'yr_built' and subtracting that from the current year. 'yr_built was then removed. \n",
    "\n",
    "* Columns deemed numerical: ['price', 'sqft_living', 'sqft_lot', 'sqft_above', 'sqft_living15, 'sqft_lot15, 'Age']\n",
    "\n",
    "* Columns deemed categorical: ['bedrooms', 'bathrooms', 'floors', 'waterfront', 'view', 'condition', 'grade', 'yr_renovated', 'zipcode']"
   ]
  },
  {
   "cell_type": "markdown",
   "metadata": {},
   "source": [
    "### Multicollinearity Analysis"
   ]
  },
  {
   "cell_type": "markdown",
   "metadata": {},
   "source": [
    "Multicollinearity analysis needs to be done on numerical columns. In this case, we will use the .corr() method and a heat map to visually inspect the data. No immediate changes were made to the data, only observations as we want to see our first model prior to making any changes. "
   ]
  },
  {
   "attachments": {},
   "cell_type": "markdown",
   "metadata": {},
   "source": [
    "<img src = heatmap.png>"
   ]
  },
  {
   "cell_type": "markdown",
   "metadata": {},
   "source": [
    "Any value above .75 is considered to be highly correlated. The following observations were made; \n",
    "* Price and 'sqft_living have the strongest correlation.\n",
    "* 'Sqft_living' has a strong correlation with 'sqft_above' and 'sqft_living15' which is indicated by a .75 or higher\n",
    "* 'Sqft_lot and 'sqft_lot15 have a .72 correlation. \n",
    "* 'Sqft-above and 'sqft_living have a .73 correlation.\n"
   ]
  },
  {
   "cell_type": "markdown",
   "metadata": {},
   "source": [
    "### Original Model "
   ]
  },
  {
   "cell_type": "markdown",
   "metadata": {},
   "source": [
    "The original model was created by using OLS from statsmodel. The data was not normalized and no outliers were removed. The following features were used with the target variable being 'price':\n",
    "\n",
    "['bedrooms',\n",
    " 'bathrooms',\n",
    " 'sqft_living',\n",
    " 'sqft_lot',\n",
    " 'floors',\n",
    " 'waterfront',\n",
    " 'view',\n",
    " 'condition',\n",
    " 'grade',\n",
    " 'sqft_above',\n",
    " 'sqft_basement',\n",
    " 'yr_renovated',\n",
    " 'zipcode',\n",
    " 'sqft_living15',\n",
    " 'sqft_lot15',\n",
    " 'Age']\n",
    " \n",
    " The original model was generated using the make_model() function:"
   ]
  },
  {
   "attachments": {},
   "cell_type": "markdown",
   "metadata": {},
   "source": [
    "<img src = \"Screen Shot 2020-09-29 at 4.09.04 PM.png\" height = 10, width = 6>"
   ]
  },
  {
   "attachments": {},
   "cell_type": "markdown",
   "metadata": {},
   "source": [
    "<img src =\"Screen Shot 2020-09-29 at 4.09.04 PM.png\">"
   ]
  },
  {
   "attachments": {},
   "cell_type": "markdown",
   "metadata": {},
   "source": [
    "<img src = \"qq1.png\">"
   ]
  },
  {
   "cell_type": "markdown",
   "metadata": {},
   "source": [
    "<img  src = \"Screen Shot 2020-09-29 at 4.13.49 PM.png\">"
   ]
  },
  {
   "cell_type": "markdown",
   "metadata": {},
   "source": [
    "According to the model summary, the original model yielded an R-squared of .839. The skew value of 2.383 suggests that the data distribution is highly skewed and the kurtosis value of 42.8 indicates that the data distribution has heavy tails. The QQ plot shows us visually that we do not have normally distributed residuals and the tails have extreme values. Homoscedasticity test shows hetroscedasticities and does not pass. "
   ]
  },
  {
   "cell_type": "markdown",
   "metadata": {},
   "source": [
    "### Final Model & Model Validation "
   ]
  },
  {
   "cell_type": "markdown",
   "metadata": {},
   "source": [
    "As we can see in the original model, changes needed to be made to improve our model to accurately predict future projections. \n",
    "\n",
    "First, to normalize all numerical data we applied log transformation and performed a one-hot encoding for all categorical data.  \n",
    "\n",
    "Next, we used the 'variance_inflation_factor' function from statsmodels to calculate multicollinearity. After running the function, any column's values greater than 6 resulted in removing that column from the model formula. And last, we removed any p-values greater than .05. \n",
    "\n",
    "The final model yielded an R-squared of .810. The skew level of .111 shows that the data is symmetrical and the kurtosis level of 5.038 shows it is a leptokurtic distribution. \n",
    "\n",
    "The QQ plot has vastly improved which is evident by the x and y scales compared to the original model. Homoscedasticity test shows no obvious cone shape pattern pasts the visual test. \n",
    "\n",
    "To validate our final model, from sklearn we imported both train_test_split and r2_score. We then split our trained data and test data which consisted .2 of the data frame. \n",
    "\n",
    "After running the formula, it produced these results: \n",
    "\n",
    "Train = .809\n",
    "\n",
    "Test = .815\n",
    "\n",
    "This shows that our model is neither under fitted or over fitted. \n",
    "\n",
    "\n",
    "\n"
   ]
  },
  {
   "attachments": {},
   "cell_type": "markdown",
   "metadata": {},
   "source": [
    "<img src = \"Screen Shot 2020-09-29 at 4.16.09 PM.png\">"
   ]
  },
  {
   "attachments": {},
   "cell_type": "markdown",
   "metadata": {},
   "source": [
    "<img src = \"qq2.png\">"
   ]
  },
  {
   "attachments": {},
   "cell_type": "markdown",
   "metadata": {},
   "source": [
    "<img src = \"Screen Shot 2020-09-29 at 4.18.20 PM.png\">"
   ]
  },
  {
   "cell_type": "markdown",
   "metadata": {},
   "source": [
    "## Intrepretation"
   ]
  },
  {
   "cell_type": "markdown",
   "metadata": {},
   "source": [
    "To analysis the data, we used the feature coefficients to interpret how a feature would either positively or negatively affect our dependent variable which is 'price'. Below we will list some of the most significant features that had an impact on a selling price of a home. \n",
    "\n"
   ]
  },
  {
   "cell_type": "markdown",
   "metadata": {},
   "source": [
    "### **Age of House**"
   ]
  },
  {
   "cell_type": "markdown",
   "metadata": {},
   "source": [
    "We created the column 'Age' by subtracting the year the house was built from the current year. The 'Age' coefficient of -.0156 translates to as a house increases in age by 1 year, the selling price decreases by -1.56 percent. We can look at this as depreciation. "
   ]
  },
  {
   "attachments": {},
   "cell_type": "markdown",
   "metadata": {},
   "source": [
    "<img src = \"age.png\">"
   ]
  },
  {
   "cell_type": "markdown",
   "metadata": {},
   "source": [
    "### **Waterfront Housing**\n",
    "\n"
   ]
  },
  {
   "cell_type": "markdown",
   "metadata": {},
   "source": [
    "Observing the graph below, we can see that if your home has a waterfront view, your house premium instantly jumps. If your house has a waterfront view, then the coefficient translates to a 61% increase of the sale price. This is one of our most significant features. "
   ]
  },
  {
   "attachments": {},
   "cell_type": "markdown",
   "metadata": {},
   "source": [
    "<img src = \"gradevsprice.png\">"
   ]
  },
  {
   "cell_type": "markdown",
   "metadata": {},
   "source": [
    "### **Views of Your Home**"
   ]
  },
  {
   "cell_type": "markdown",
   "metadata": {},
   "source": [
    "If your home gets viewed, then this will increase the price of your home by almost 19%. This directly relates to marketing. If you show professional photos and videos of your home along with having an experience agent then consumers are more likely to view your home. The more consumers you attract, the more bids you will receive. "
   ]
  },
  {
   "attachments": {},
   "cell_type": "markdown",
   "metadata": {},
   "source": [
    "<img src = \"views.png\">"
   ]
  },
  {
   "cell_type": "markdown",
   "metadata": {},
   "source": [
    "### **King County Grading**"
   ]
  },
  {
   "cell_type": "markdown",
   "metadata": {},
   "source": [
    "The grading system for King County goes from 3-13 where 13 is the highest grade in the data. A house that receives a grade 11-13 could potentially see a 41-80% increase in sale price. As the grades decrease so does the potential. A house receiving a grade between 4-6 could possibly see a decrease in sale price ranging from 42-14 percent. The grades are based on the quality of materials and workmanship the house holds. "
   ]
  },
  {
   "attachments": {},
   "cell_type": "markdown",
   "metadata": {},
   "source": [
    "<img src = \"grades.png\">"
   ]
  },
  {
   "cell_type": "markdown",
   "metadata": {},
   "source": [
    "### Basement Coefficient "
   ]
  },
  {
   "cell_type": "markdown",
   "metadata": {},
   "source": [
    "The 'sqft_basement_1' coefficient of .0728 translates to increasing sale price by over 7%. If you have a basement, then showcase it. Potential house buyers will love to know they have extra space to work with. "
   ]
  },
  {
   "attachments": {},
   "cell_type": "markdown",
   "metadata": {},
   "source": [
    "<img src = \"basement.png\">"
   ]
  },
  {
   "cell_type": "markdown",
   "metadata": {},
   "source": [
    "### Renovations "
   ]
  },
  {
   "cell_type": "markdown",
   "metadata": {},
   "source": [
    "Analyzing the 'yr_renovated_1' coefficient which is equal to .1143, shows that if you renovate your home it will increase the sale price by almost 12%. This goes hand in hand with the grading system. Renovate your home with high quality materials and quality workmanship and you will achieve a higher grade.  "
   ]
  },
  {
   "attachments": {},
   "cell_type": "markdown",
   "metadata": {},
   "source": [
    "<img src = \"renovations .png\">\n"
   ]
  },
  {
   "cell_type": "markdown",
   "metadata": {},
   "source": [
    "## Conclusion"
   ]
  },
  {
   "cell_type": "markdown",
   "metadata": {},
   "source": [
    "Because the linear regressions model that was produced has a 81% predicting power, we are confident in the following recommendations. \n",
    "    \n",
    "Determine if you home is considered to have a water front, if so, the price of your home will increase in value just by checking that box. Next, evaluate your home and determine where renovations are needed. Using quality materials combined with high workmanship will result in a higher grade given by King County and can significantly increase the selling price of the house. \n",
    "    \n",
    "Last but not least, advertise your home with professional photos and videos and an experience real estate agent to generate hype. If you have a basement, market it. You never know what people love. The more views you get, the higher the chance consumers will not only bid, but will need to bid higher to out bid their competitors. \n",
    "    \n",
    "Making the decision to sell your home can be an exhausting one. Taking into consideration the above recommendations will put your mind at ease. Remember, this decision can be a long process and you want to be mindful of your time line as waiting 10-20 years can depreciate your house by a significant amount."
   ]
  },
  {
   "cell_type": "markdown",
   "metadata": {},
   "source": [
    "## Future Work"
   ]
  },
  {
   "cell_type": "markdown",
   "metadata": {},
   "source": [
    "The next steps to improve our model would be to decipher which locations/neighborhoods impact our house value and reanalyzing the square footage of a home compared to price. Also market analysis on when is the best time to sell your home."
   ]
  }
 ],
 "metadata": {
  "kernelspec": {
   "display_name": "Python 3",
   "language": "python",
   "name": "python3"
  },
  "language_info": {
   "codemirror_mode": {
    "name": "ipython",
    "version": 3
   },
   "file_extension": ".py",
   "mimetype": "text/x-python",
   "name": "python",
   "nbconvert_exporter": "python",
   "pygments_lexer": "ipython3",
   "version": "3.6.9"
  },
  "toc": {
   "base_numbering": 1,
   "nav_menu": {},
   "number_sections": true,
   "sideBar": true,
   "skip_h1_title": false,
   "title_cell": "Table of Contents",
   "title_sidebar": "Contents",
   "toc_cell": false,
   "toc_position": {},
   "toc_section_display": true,
   "toc_window_display": false
  }
 },
 "nbformat": 4,
 "nbformat_minor": 2
}
